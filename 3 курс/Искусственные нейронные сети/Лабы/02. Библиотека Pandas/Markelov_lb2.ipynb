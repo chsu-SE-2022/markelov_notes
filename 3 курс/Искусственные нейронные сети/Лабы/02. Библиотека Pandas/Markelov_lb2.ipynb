{
 "cells": [
  {
   "cell_type": "code",
   "execution_count": 1,
   "id": "f9eb0826-5c82-4a43-a7d0-861e0f8d02c3",
   "metadata": {},
   "outputs": [],
   "source": [
    "import pandas as pd"
   ]
  },
  {
   "cell_type": "markdown",
   "id": "ef849c3c-0010-4056-9acf-a79e375d73dc",
   "metadata": {},
   "source": [
    "## 1. Создайте объект `Series`, значениями которого являются целые числа от 1 до 5, а индексами символы `'a'`, `'b'`, `'c'`, `'d'`, `'e'`"
   ]
  },
  {
   "cell_type": "code",
   "execution_count": 2,
   "id": "85d51f70-1ef0-4c26-bd8b-699232d63e04",
   "metadata": {},
   "outputs": [],
   "source": [
    "series = pd.Series(data = {'a': 1, 'b': 2, 'c': 3, 'd': 4, 'e': 5})"
   ]
  },
  {
   "cell_type": "code",
   "execution_count": 3,
   "id": "30230039-1df6-472d-95ca-24b0c5eefaa6",
   "metadata": {},
   "outputs": [
    {
     "data": {
      "text/plain": [
       "a    1\n",
       "b    2\n",
       "c    3\n",
       "d    4\n",
       "e    5\n",
       "dtype: int64"
      ]
     },
     "execution_count": 3,
     "metadata": {},
     "output_type": "execute_result"
    }
   ],
   "source": [
    "series"
   ]
  },
  {
   "cell_type": "markdown",
   "id": "1b847236-372c-4bf2-9536-aa642a37ceff",
   "metadata": {},
   "source": [
    "## 2. С помощью обращения по явному индексу получите значение `4`"
   ]
  },
  {
   "cell_type": "code",
   "execution_count": 4,
   "id": "0889b54f-82a4-47d9-92de-f6b85885b098",
   "metadata": {},
   "outputs": [
    {
     "data": {
      "text/plain": [
       "np.int64(4)"
      ]
     },
     "execution_count": 4,
     "metadata": {},
     "output_type": "execute_result"
    }
   ],
   "source": [
    "series.loc['d']"
   ]
  },
  {
   "cell_type": "markdown",
   "id": "18631ef4-85b0-417b-9378-df9c8756a0df",
   "metadata": {},
   "source": [
    "## 3. С помощью обращения по неявному индексу получите значение `2`"
   ]
  },
  {
   "cell_type": "code",
   "execution_count": 5,
   "id": "9dd41e73-61f9-4d7d-bc55-e30a4fa2aed7",
   "metadata": {},
   "outputs": [
    {
     "data": {
      "text/plain": [
       "np.int64(2)"
      ]
     },
     "execution_count": 5,
     "metadata": {},
     "output_type": "execute_result"
    }
   ],
   "source": [
    "series.iloc[1]"
   ]
  },
  {
   "cell_type": "markdown",
   "id": "9bd402a5-7e15-47a4-8357-203a349f0b19",
   "metadata": {},
   "source": [
    "## 4. Добавьте в серию новый элемент"
   ]
  },
  {
   "cell_type": "code",
   "execution_count": 6,
   "id": "31668934-a6ea-46ae-bb3e-f5f2db7b8847",
   "metadata": {},
   "outputs": [],
   "source": [
    "series['f'] = 6"
   ]
  },
  {
   "cell_type": "code",
   "execution_count": 7,
   "id": "104aa5a3-9c1b-46f0-8832-ac7e8a3b9ebd",
   "metadata": {},
   "outputs": [
    {
     "data": {
      "text/plain": [
       "a    1\n",
       "b    2\n",
       "c    3\n",
       "d    4\n",
       "e    5\n",
       "f    6\n",
       "dtype: int64"
      ]
     },
     "execution_count": 7,
     "metadata": {},
     "output_type": "execute_result"
    }
   ],
   "source": [
    "series"
   ]
  },
  {
   "cell_type": "markdown",
   "id": "b24de868-c62f-4d26-b7ec-850207263902",
   "metadata": {},
   "source": [
    "## 5. Используя операцию среза, получите значения `3`, `4`, `5`"
   ]
  },
  {
   "cell_type": "code",
   "execution_count": 8,
   "id": "31dee445-a922-4710-8a27-9cb025e3e88d",
   "metadata": {},
   "outputs": [
    {
     "data": {
      "text/plain": [
       "c    3\n",
       "d    4\n",
       "e    5\n",
       "dtype: int64"
      ]
     },
     "execution_count": 8,
     "metadata": {},
     "output_type": "execute_result"
    }
   ],
   "source": [
    "series.iloc[2:5]"
   ]
  },
  {
   "cell_type": "markdown",
   "id": "54638619-ac1e-4233-8499-3193ef890ea7",
   "metadata": {},
   "source": [
    "## 6. Создайте объект `DataFrame` из списка `[[1, 2], [5, 3], [3.7, 4.8]]` с именами столбцов `col1` и `col2`"
   ]
  },
  {
   "cell_type": "code",
   "execution_count": 9,
   "id": "a591bd58-3d3a-4dca-962c-5366b03f2bc3",
   "metadata": {},
   "outputs": [],
   "source": [
    "df = pd.DataFrame(data = [[1, 2], [5, 3], [3.7, 4.8]], columns = ['col1', 'col2'])"
   ]
  },
  {
   "cell_type": "code",
   "execution_count": 10,
   "id": "eb26ced5-c729-4419-ba01-e40563266d5c",
   "metadata": {},
   "outputs": [
    {
     "data": {
      "text/html": [
       "<div>\n",
       "<style scoped>\n",
       "    .dataframe tbody tr th:only-of-type {\n",
       "        vertical-align: middle;\n",
       "    }\n",
       "\n",
       "    .dataframe tbody tr th {\n",
       "        vertical-align: top;\n",
       "    }\n",
       "\n",
       "    .dataframe thead th {\n",
       "        text-align: right;\n",
       "    }\n",
       "</style>\n",
       "<table border=\"1\" class=\"dataframe\">\n",
       "  <thead>\n",
       "    <tr style=\"text-align: right;\">\n",
       "      <th></th>\n",
       "      <th>col1</th>\n",
       "      <th>col2</th>\n",
       "    </tr>\n",
       "  </thead>\n",
       "  <tbody>\n",
       "    <tr>\n",
       "      <th>0</th>\n",
       "      <td>1.0</td>\n",
       "      <td>2.0</td>\n",
       "    </tr>\n",
       "    <tr>\n",
       "      <th>1</th>\n",
       "      <td>5.0</td>\n",
       "      <td>3.0</td>\n",
       "    </tr>\n",
       "    <tr>\n",
       "      <th>2</th>\n",
       "      <td>3.7</td>\n",
       "      <td>4.8</td>\n",
       "    </tr>\n",
       "  </tbody>\n",
       "</table>\n",
       "</div>"
      ],
      "text/plain": [
       "   col1  col2\n",
       "0   1.0   2.0\n",
       "1   5.0   3.0\n",
       "2   3.7   4.8"
      ]
     },
     "execution_count": 10,
     "metadata": {},
     "output_type": "execute_result"
    }
   ],
   "source": [
    "df"
   ]
  },
  {
   "cell_type": "markdown",
   "id": "28292580-496a-48b2-a638-6bb11f206f68",
   "metadata": {},
   "source": [
    "## 7. Используя операцию индексации, получите элемент `3.7`"
   ]
  },
  {
   "cell_type": "code",
   "execution_count": 11,
   "id": "b21ee1bd-ad58-438f-bd7e-ee7e19793be4",
   "metadata": {
    "scrolled": true
   },
   "outputs": [
    {
     "data": {
      "text/plain": [
       "np.float64(3.7)"
      ]
     },
     "execution_count": 11,
     "metadata": {},
     "output_type": "execute_result"
    }
   ],
   "source": [
    "df.loc[2, \"col1\"]"
   ]
  },
  {
   "cell_type": "code",
   "execution_count": 12,
   "id": "44939059-e351-49e7-a9d1-5f9cb159260f",
   "metadata": {},
   "outputs": [
    {
     "data": {
      "text/plain": [
       "np.float64(3.7)"
      ]
     },
     "execution_count": 12,
     "metadata": {},
     "output_type": "execute_result"
    }
   ],
   "source": [
    "df.iloc[2, 0]"
   ]
  },
  {
   "cell_type": "markdown",
   "id": "376b244f-37bf-44a4-8140-089692f1026f",
   "metadata": {},
   "source": [
    "## 8. Измените элемент `3` на `9`"
   ]
  },
  {
   "cell_type": "code",
   "execution_count": 13,
   "id": "38742ff0-7454-4d72-908d-07ccb98c22bf",
   "metadata": {},
   "outputs": [],
   "source": [
    "df.iloc[1, 1] = 9"
   ]
  },
  {
   "cell_type": "code",
   "execution_count": 14,
   "id": "2b488848-b122-4e7e-acb0-8efdcd79fb6e",
   "metadata": {},
   "outputs": [
    {
     "data": {
      "text/html": [
       "<div>\n",
       "<style scoped>\n",
       "    .dataframe tbody tr th:only-of-type {\n",
       "        vertical-align: middle;\n",
       "    }\n",
       "\n",
       "    .dataframe tbody tr th {\n",
       "        vertical-align: top;\n",
       "    }\n",
       "\n",
       "    .dataframe thead th {\n",
       "        text-align: right;\n",
       "    }\n",
       "</style>\n",
       "<table border=\"1\" class=\"dataframe\">\n",
       "  <thead>\n",
       "    <tr style=\"text-align: right;\">\n",
       "      <th></th>\n",
       "      <th>col1</th>\n",
       "      <th>col2</th>\n",
       "    </tr>\n",
       "  </thead>\n",
       "  <tbody>\n",
       "    <tr>\n",
       "      <th>0</th>\n",
       "      <td>1.0</td>\n",
       "      <td>2.0</td>\n",
       "    </tr>\n",
       "    <tr>\n",
       "      <th>1</th>\n",
       "      <td>5.0</td>\n",
       "      <td>9.0</td>\n",
       "    </tr>\n",
       "    <tr>\n",
       "      <th>2</th>\n",
       "      <td>3.7</td>\n",
       "      <td>4.8</td>\n",
       "    </tr>\n",
       "  </tbody>\n",
       "</table>\n",
       "</div>"
      ],
      "text/plain": [
       "   col1  col2\n",
       "0   1.0   2.0\n",
       "1   5.0   9.0\n",
       "2   3.7   4.8"
      ]
     },
     "execution_count": 14,
     "metadata": {},
     "output_type": "execute_result"
    }
   ],
   "source": [
    "df"
   ]
  },
  {
   "cell_type": "markdown",
   "id": "ca448882-0e67-4ca3-ad9d-a981a7a6c967",
   "metadata": {},
   "source": [
    "## 9. Используя операцию среза, получите строки с индексами `1` и `2`"
   ]
  },
  {
   "cell_type": "code",
   "execution_count": 15,
   "id": "640d7511-12c4-4801-ae3d-93961acc5da8",
   "metadata": {},
   "outputs": [
    {
     "data": {
      "text/html": [
       "<div>\n",
       "<style scoped>\n",
       "    .dataframe tbody tr th:only-of-type {\n",
       "        vertical-align: middle;\n",
       "    }\n",
       "\n",
       "    .dataframe tbody tr th {\n",
       "        vertical-align: top;\n",
       "    }\n",
       "\n",
       "    .dataframe thead th {\n",
       "        text-align: right;\n",
       "    }\n",
       "</style>\n",
       "<table border=\"1\" class=\"dataframe\">\n",
       "  <thead>\n",
       "    <tr style=\"text-align: right;\">\n",
       "      <th></th>\n",
       "      <th>col1</th>\n",
       "      <th>col2</th>\n",
       "    </tr>\n",
       "  </thead>\n",
       "  <tbody>\n",
       "    <tr>\n",
       "      <th>1</th>\n",
       "      <td>5.0</td>\n",
       "      <td>9.0</td>\n",
       "    </tr>\n",
       "    <tr>\n",
       "      <th>2</th>\n",
       "      <td>3.7</td>\n",
       "      <td>4.8</td>\n",
       "    </tr>\n",
       "  </tbody>\n",
       "</table>\n",
       "</div>"
      ],
      "text/plain": [
       "   col1  col2\n",
       "1   5.0   9.0\n",
       "2   3.7   4.8"
      ]
     },
     "execution_count": 15,
     "metadata": {},
     "output_type": "execute_result"
    }
   ],
   "source": [
    "df.iloc[1:3]"
   ]
  },
  {
   "cell_type": "markdown",
   "id": "b1d1a6d4-99ff-490e-97bf-8d320a0c2293",
   "metadata": {},
   "source": [
    "## 10. Добавьте столбец `col3`, значения которого - результат поэлементного перемножения `col1` и `col2`"
   ]
  },
  {
   "cell_type": "code",
   "execution_count": 16,
   "id": "80e932f0-cf48-40ff-b037-1bb9f059e9d4",
   "metadata": {},
   "outputs": [],
   "source": [
    "df['col3'] = df['col1'] * df['col2']"
   ]
  },
  {
   "cell_type": "code",
   "execution_count": 17,
   "id": "1c212521-5f97-4bd0-9cd7-fbf29aeb7178",
   "metadata": {},
   "outputs": [
    {
     "data": {
      "text/html": [
       "<div>\n",
       "<style scoped>\n",
       "    .dataframe tbody tr th:only-of-type {\n",
       "        vertical-align: middle;\n",
       "    }\n",
       "\n",
       "    .dataframe tbody tr th {\n",
       "        vertical-align: top;\n",
       "    }\n",
       "\n",
       "    .dataframe thead th {\n",
       "        text-align: right;\n",
       "    }\n",
       "</style>\n",
       "<table border=\"1\" class=\"dataframe\">\n",
       "  <thead>\n",
       "    <tr style=\"text-align: right;\">\n",
       "      <th></th>\n",
       "      <th>col1</th>\n",
       "      <th>col2</th>\n",
       "      <th>col3</th>\n",
       "    </tr>\n",
       "  </thead>\n",
       "  <tbody>\n",
       "    <tr>\n",
       "      <th>0</th>\n",
       "      <td>1.0</td>\n",
       "      <td>2.0</td>\n",
       "      <td>2.00</td>\n",
       "    </tr>\n",
       "    <tr>\n",
       "      <th>1</th>\n",
       "      <td>5.0</td>\n",
       "      <td>9.0</td>\n",
       "      <td>45.00</td>\n",
       "    </tr>\n",
       "    <tr>\n",
       "      <th>2</th>\n",
       "      <td>3.7</td>\n",
       "      <td>4.8</td>\n",
       "      <td>17.76</td>\n",
       "    </tr>\n",
       "  </tbody>\n",
       "</table>\n",
       "</div>"
      ],
      "text/plain": [
       "   col1  col2   col3\n",
       "0   1.0   2.0   2.00\n",
       "1   5.0   9.0  45.00\n",
       "2   3.7   4.8  17.76"
      ]
     },
     "execution_count": 17,
     "metadata": {},
     "output_type": "execute_result"
    }
   ],
   "source": [
    "df"
   ]
  }
 ],
 "metadata": {
  "kernelspec": {
   "display_name": "Python 3 (ipykernel)",
   "language": "python",
   "name": "python3"
  },
  "language_info": {
   "codemirror_mode": {
    "name": "ipython",
    "version": 3
   },
   "file_extension": ".py",
   "mimetype": "text/x-python",
   "name": "python",
   "nbconvert_exporter": "python",
   "pygments_lexer": "ipython3",
   "version": "3.12.4"
  }
 },
 "nbformat": 4,
 "nbformat_minor": 5
}
